{
 "cells": [
  {
   "cell_type": "code",
   "execution_count": null,
   "metadata": {},
   "outputs": [],
   "source": [
    "import json\n",
    "import pandas as pd\n",
    "import sqlalchemy\n",
    "import datetime\n",
    "import requests\n",
    "import functions\n",
    "import pw"
   ]
  },
  {
   "cell_type": "code",
   "execution_count": null,
   "metadata": {},
   "outputs": [],
   "source": [
    "def lambda_handler(event, context):\n",
    "    schema=\"gans\"\n",
    "    host=\"wbs-project5-db.c4kvjhi4m8gp.eu-central-1.rds.amazonaws.com\"\n",
    "    user=\"admin\"\n",
    "    password=\"YOUR_SQL_PASSWORD\"\n",
    "    port=3306\n",
    "    con = f'mysql+pymysql://{user}:{password}@{host}:{port}/{schema}'\n",
    "    \n",
    "    cities = pd.read_sql(\"cities\", con=con)\n",
    "    airports = pd.read_sql(\"airports\", con=con)\n",
    "    cities_airports = pd.read_sql(\"cities_airports\", con=con)\n",
    " \n",
    "    weather = functions.extract_weather(cities[\"city\"])\n",
    "    weather.to_sql('weather',if_exists='append',con=con,index=False)\n",
    "    \n",
    "    flights = functions.get_flights(airports[\"icao\"])\n",
    "    flights.to_sql('flights',if_exists='append',con=con,index=False)\n",
    "    \n",
    "    sunlight = functions.extract_light(cities[\"city\"])\n",
    "    sunlight.to_sql('sunlight', if_exists='append', con=con, index=False)\n",
    "    \n",
    "    return {\n",
    "        'statusCode': 200,\n",
    "        'body': json.dumps('Hello from Lambda!')\n",
    "    }"
   ]
  }
 ],
 "metadata": {
  "kernelspec": {
   "display_name": "Python 3",
   "language": "python",
   "name": "python3"
  },
  "language_info": {
   "codemirror_mode": {
    "name": "ipython",
    "version": 3
   },
   "file_extension": ".py",
   "mimetype": "text/x-python",
   "name": "python",
   "nbconvert_exporter": "python",
   "pygments_lexer": "ipython3",
   "version": "3.8.5"
  }
 },
 "nbformat": 4,
 "nbformat_minor": 4
}
